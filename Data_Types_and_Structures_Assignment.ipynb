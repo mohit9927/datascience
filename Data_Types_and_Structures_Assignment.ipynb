{
  "nbformat": 4,
  "nbformat_minor": 0,
  "metadata": {
    "colab": {
      "provenance": []
    },
    "kernelspec": {
      "name": "python3",
      "display_name": "Python 3"
    },
    "language_info": {
      "name": "python"
    }
  },
  "cells": [
    {
      "cell_type": "markdown",
      "source": [
        "# 1. What are data structures, and why are they important?\n",
        "Answer: Data structures bring together the data elements in a logical way and facilitate the effective use, persistence and sharing of data. They provide a formal model that describes the way the data elements are organized. Data structures are the building blocks for more sophisticated applications.\n",
        "Why are data structures important?\n",
        "Efficient code\n",
        "Choosing the right data structure for a problem can help programmers write more efficient code.\n",
        "Improved performance\n",
        "The right data structure can reduce the time and space complexity of an algorithm, which improves its overall performance.\n",
        "Faster and more efficient software\n",
        "Data structures help programmers organize data in a way that supports quick and easy searching, sorting, and updating.\n",
        "Examples of data structures\n",
        "Array: A sequential arrangement of elements of the same data type\n",
        "Linked list: A collection of objects connected in a linear order\n",
        "Hash table: A collection of items stored in an associative array that plots keys to values\n",
        "Stack: A collection of items stored in a linear order\n",
        "Queue: A collection of items stored in a linear order, but the operation order must be “first in, first out” only\n",
        "Tree: A multilevel data structure that uses nodes\n",
        "Data structures are used in almost every program or software system.\n",
        "\n"
      ],
      "metadata": {
        "id": "0Mr55rZqCiy9"
      }
    },
    {
      "cell_type": "markdown",
      "source": [
        "# 2. Explain the difference between mutable and immutable data types with examples.\n",
        "Mutable data types can be changed after they are created, while immutable data types cannot.\n",
        "Examples of mutable data types\n",
        "lists, dictionaries, sets, objects, functions, and dates.\n",
        "Examples of immutable data types\n",
        "strings, tuples, numbers, booleans, null, and undefined.\n",
        "Performance implications\n",
        "Immutable data types are usually faster to access and process.\n",
        "Mutable data types are more flexible, but they can require more memory space to resize.\n",
        "Benefits of immutability\n",
        "Immutable objects are thread-safe.\n",
        "They are easier to understand and reason about.\n",
        "They offer higher security than mutable objects.\n",
        "They can help avoid side effects, which are changes in a program's state or behavior that are not intended or expected."
      ],
      "metadata": {
        "id": "QF5gY76ZC-TM"
      }
    },
    {
      "cell_type": "markdown",
      "source": [
        "# 3. What are the main differences between lists and tuples in Python?\n",
        "n Python, the main differences between lists and tuples are:\n",
        "Mutability: Lists are mutable, meaning they can be changed, while tuples are immutable, meaning they cannot be changed.\n",
        "Memory efficiency: Tuples are more memory efficient than lists.\n",
        "Access speed: Tuples are faster than lists because they are immutable.\n",
        "Syntax: Lists use square brackets, while tuples use round brackets or parentheses.\n",
        "Other differences between lists and tuples:\n",
        "Length\n",
        "Once defined, tuples have a fixed length, while lists have a dynamic length.\n",
        "Use cases\n",
        "Tuples are better for data that you don't want to change, while lists are better for data that might increase and shrink."
      ],
      "metadata": {
        "id": "kwqAUOhzDt-2"
      }
    },
    {
      "cell_type": "markdown",
      "source": [
        "# 4. Describe how dictionaries store data.\n",
        "n Python, dictionaries are mutable data structures that allow you to store key-value pairs. Dictionary can be created using the dict() constructor or curly braces' {}'. Once you have created a dictionary, you can add, remove, or update elements using the methods dict.\n"
      ],
      "metadata": {
        "id": "hSQpzdISELAp"
      }
    },
    {
      "cell_type": "markdown",
      "source": [
        "# 5. Why might you use a set instead of a list in Python?\n",
        "Since sets do not store indexed data or duplicates, they use less memory than lists and are less computationally expensive. As a result, sets take less time to search through. To test this, the code below performs two membership tests. In one case, the container is a list and in the other, it's a set."
      ],
      "metadata": {
        "id": "JkC5roS6EeNE"
      }
    },
    {
      "cell_type": "markdown",
      "source": [
        "# 6. What is a string in Python, and how is it different from a list?\n",
        "A string is a sequence of characters between single or double quotes. A list is a sequence of items, where each item could be anything (an integer, a float, a string, etc).\n",
        "Lists are similar to strings, which are ordered collections of characters, except that the elements of a list can have any type and for any one list, the items can be of different types."
      ],
      "metadata": {
        "id": "j43pPy4GEz8p"
      }
    },
    {
      "cell_type": "markdown",
      "source": [
        "# 7. How do tuples ensure data integrity in Python?\n",
        "Tuples are immutable to ensure that their contents remain constant throughout their lifecycle, guaranteeing data integrity and reliability. This immutability allows tuples to be used as keys in dictionaries and elements in sets, as they can be hashed."
      ],
      "metadata": {
        "id": "RcvPV55WFMcR"
      }
    },
    {
      "cell_type": "markdown",
      "source": [
        "# 8. What is a hash table, and how does it relate to dictionaries in Python?\n",
        "In Python, a hash table is a data structure that's used to implement dictionaries. A dictionary is a built-in data type that stores key-value pairs.\n",
        "How hash tables work\n",
        "A hash function generates a unique key for each value.\n",
        "The hash value of the key determines which bucket to use for the data.\n",
        "The hash function computes an index into an array of buckets or slots.\n",
        "The desired value can be found in the bucket or slot indicated by the index.\n",
        "Why hash tables are useful\n",
        "They provide an efficient way to organize data for quick access.\n",
        "The average number of instructions needed to look up an item is independent of the number of items in the table.\n",
        "How dictionaries use hash tables\n",
        "Python dictionaries are built using hash tables and the open addressing collision resolution method.\n",
        "The keys in a dictionary are unique and immutable, which means they can't be changed once they're set.\n",
        "The values in a dictionary can be of any type and are mutable, meaning you can change them."
      ],
      "metadata": {
        "id": "gzIKum4OFeGj"
      }
    },
    {
      "cell_type": "markdown",
      "source": [
        "# 9. Can lists contain different data types in Python?\n",
        "A list in Python CAN contain different types of data. Each item in the list is separated by a comma and the entire list is enclosed in square brackets []. To add a new item to the list, just edit the list starting before the closing bracket. Add a comma and the new item. It doesn’t matter what the type is for the previous item.\n",
        "\n",
        "In the example below, the elements list contains the name of an element and its atomic number and mass. The list then contains the same data for another element. The data types contained in the list are strings, integers, and floating point values\n",
        "\n",
        "elements = [‘Hydrogen’, 1, 1.007825, ‘Helium’, 2, 4.00260]"
      ],
      "metadata": {
        "id": "1GBHsDW_GD8U"
      }
    },
    {
      "cell_type": "markdown",
      "source": [
        "# 10. Explain why strings are immutable in Python.\n",
        "In Python, strings are immutable because their content cannot be changed after they are created. This is done to ensure security, thread safety, and to simplify memory management.\n"
      ],
      "metadata": {
        "id": "uS4QJFCAGV0K"
      }
    },
    {
      "cell_type": "markdown",
      "source": [
        "# 11. What advantages do dictionaries offer over lists for certain tasks?\n",
        "Dictionaries are more efficient than lists for certain tasks, like looking up data, because they are faster and easier to use. ![Screenshot 2025-02-25 180733.png](data:image/png;base64,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)"
      ],
      "metadata": {
        "id": "yTl-YcYvG7Cb"
      }
    },
    {
      "cell_type": "markdown",
      "source": [
        "# 12. Describe a scenario where using a tuple would be preferable over a list.\n",
        "The key difference between tuples and lists is that while tuples are immutable objects, lists are mutable. This means tuples cannot be changed while lists can be modified. Tuples are also more memory efficient than the lists. When it comes to time efficiency, tuples have a slight advantage over lists especially when we consider lookup value. If you have data that shouldn’t change, you should choose tuple data type over lists.\n",
        "Let’s further understand how the differences in tuples and lists may affect our Python code in terms of time and memory efficiency.\n",
        "\n",
        "As lists are mutable, Python needs to allocate an extra memory block in case there is a need to extend the size of the list object after we create it. In contrast, as tuples are immutable and of a fixed size, Python allocates only the minimum memory block required for the data.\n",
        "\n",
        "As a result, tuples are more memory-efficient than lists."
      ],
      "metadata": {
        "id": "SQ3QJP5gHb_T"
      }
    },
    {
      "cell_type": "markdown",
      "source": [
        "# 13. How do sets handle duplicate values in Python?\n",
        "If the order of the elements is not critical, we can remove duplicates using the Set method and the Numpy unique() function. We can use Pandas functions, OrderedDict, reduce() function, Set + sort() method, and iterative approaches to keep the order of elements.\n"
      ],
      "metadata": {
        "id": "8NNAJPSJIgLy"
      }
    },
    {
      "cell_type": "markdown",
      "source": [
        "# 14. How does the \"in\" keyword work differently for lists and dictionaries?\n",
        "The in and not in operator works on dictionaries; it tells you whether something appears or not as a key in the dictionary. It returns two values True or False. The in operator uses different algorithms for lists and dictionaries. For lists, it uses a search algorithm.\n"
      ],
      "metadata": {
        "id": "0RwrETzwI6KE"
      }
    },
    {
      "cell_type": "markdown",
      "source": [
        "# 15. Can you modify the elements of a tuple? Explain why or why not.\n",
        "No, you cannot modify the elements of a tuple in Python because tuples are immutable. This means that once a tuple is created, its elements are fixed and cannot be changed, added, or removed.\n",
        "Explanation\n",
        "Tuples are immutable, unlike lists, which are mutable and can be modified.\n",
        "If you try to change a tuple element, you'll get a TypeError error.\n",
        "You can perform other operations on a tuple that don't modify the original tuple, such as slicing.\n",
        "If you want to change the values of a tuple, you can convert the tuple to a list, change the list, and then convert the list back to a tuple.\n",
        "Tuples are more memory-efficient than lists.\n",
        "Tuples are often used to store heterogeneous (different) data types, while lists are often used to store homogeneous (similar) data types."
      ],
      "metadata": {
        "id": "MtbTcWqVavNh"
      }
    },
    {
      "cell_type": "markdown",
      "source": [
        "# 16. What is a nested dictionary, and give an example of its use case?\n",
        "A nested dictionary is a dictionary that is stored within another dictionary. It's a powerful tool for managing and organizing complex data.\n",
        "Example\n",
        "You can use a nested dictionary to store employee information by department. In this case, the keys would be the department names and the values would be dictionaries of employees in that department.\n",
        "You can use a nested dictionary to track product categories, subcategories, and individual product details."
      ],
      "metadata": {
        "id": "49JuUIG3bShD"
      }
    },
    {
      "cell_type": "markdown",
      "source": [
        "# 17. Describe the time complexity of accessing elements in a dictionary.\n",
        "The time complexity of accessing an element in a Python dictionary is O(1) on average, which means it takes constant time. However, in the worst case, it can be O(n) if there are many hash collisions.\n",
        "Explanation\n",
        "The time complexity of dictionary operations depends on the size of the dictionary and the operation being performed.\n",
        "The worst-case complexity occurs when all elements are in a single hash bucket.\n",
        "Hash collisions in dictionaries can degrade O(1) operations to O(n)."
      ],
      "metadata": {
        "id": "gKkdle9MbgAu"
      }
    },
    {
      "cell_type": "markdown",
      "source": [
        "# 18. In what situations are lists preferred over dictionaries?\n",
        "A list can store any data type. In contrast, keys in the dictionary can be of any immutable data type, and values can be of any data type. Lists perform faster for ordered operations like sorting, while dictionaries perform faster for lookup operations."
      ],
      "metadata": {
        "id": "WKLAWKcwbq-j"
      }
    },
    {
      "cell_type": "markdown",
      "source": [
        "# 19. Why are dictionaries considered unordered, and how does that affect data retrieval?\n",
        "Dictionaries are considered unordered because they don't maintain a specific order for items. This is so that they can be accessed quickly by key, rather than by index.\n",
        "Explanation\n",
        "Dictionaries are a data structure that store key-value pairs.\n",
        "They are optimized for fast lookups and retrieval based on key.\n",
        "In older versions of Python, dictionaries didn't preserve the order of items.\n",
        "In Python 3.7 and later, dictionaries retain the order of items, but they are still called \"unordered\".\n",
        "Because dictionaries are unordered, you can't index or slice them like ordered structures.\n",
        "If you want to collect a set of objects in order, you can use an ordered data structure like a list or tuple."
      ],
      "metadata": {
        "id": "UJ5FuVvJb3JR"
      }
    },
    {
      "cell_type": "markdown",
      "source": [
        "# 20. Explain the difference between a list and a dictionary in terms of data retrieval.\n",
        "In Python, lists are best for retrieving data by index, while dictionaries are best for retrieving data by key.\n",
        "How to create lists and dictionaries\n",
        "To create a list, put elements in square brackets and separate them with commas\n",
        "To create a dictionary, put key-value pairs in curly brackets { } and separate them with commas\n",
        "When to use lists and dictionaries\n",
        "Use lists for ordered collections and sequence operations, like maintaining a stack or queue\n",
        "Use dictionaries for quick data look-ups, configurations, or caches\n",
        "Mutability\n",
        "Lists and dictionaries are both mutable, meaning you can add, edit, delete, or modify the elements. However, dictionaries do not allow duplicate keys."
      ],
      "metadata": {
        "id": "wQvdqKcocFMB"
      }
    },
    {
      "cell_type": "code",
      "source": [
        "# 1. Write a code to create a string with your name and print it.\n",
        "name = \"Python\"\n",
        "print(name)\n"
      ],
      "metadata": {
        "colab": {
          "base_uri": "https://localhost:8080/"
        },
        "id": "g3qE1W-tddMH",
        "outputId": "d8f66e99-a218-42d7-a5fa-88bb4fdc8d7d"
      },
      "execution_count": 1,
      "outputs": [
        {
          "output_type": "stream",
          "name": "stdout",
          "text": [
            "Python\n"
          ]
        }
      ]
    },
    {
      "cell_type": "code",
      "source": [
        "# 2. Write a code to find the length of the string \"Hello World\".\n",
        "string = \"Hello World\"\n",
        "print (len(string))"
      ],
      "metadata": {
        "colab": {
          "base_uri": "https://localhost:8080/"
        },
        "id": "NqNeiZL1eFIm",
        "outputId": "4102e9fe-d6e5-4725-8d47-924168e34bf5"
      },
      "execution_count": 2,
      "outputs": [
        {
          "output_type": "stream",
          "name": "stdout",
          "text": [
            "11\n"
          ]
        }
      ]
    },
    {
      "cell_type": "code",
      "source": [
        "# 3. Write a code to slice the first 3 characters from the string \"Python Programming\".\n",
        "string = \"Python Programming\"\n",
        "print (string[0:3])"
      ],
      "metadata": {
        "colab": {
          "base_uri": "https://localhost:8080/"
        },
        "id": "GREIG3Vkeqdh",
        "outputId": "2a60e800-0444-4293-f3c1-3b6c84612e05"
      },
      "execution_count": 3,
      "outputs": [
        {
          "output_type": "stream",
          "name": "stdout",
          "text": [
            "Pyt\n"
          ]
        }
      ]
    },
    {
      "cell_type": "markdown",
      "source": [],
      "metadata": {
        "id": "x8NAbCHVcu9c"
      }
    },
    {
      "cell_type": "code",
      "source": [
        "# 4. Write a code to convert the string \"hello\" to uppercase.\n",
        "string = \"hello\"\n",
        "print (string.upper())"
      ],
      "metadata": {
        "colab": {
          "base_uri": "https://localhost:8080/"
        },
        "id": "seGl_cb4fEQ2",
        "outputId": "4cc302f9-b6df-4c2f-b1b0-09085db2eeac"
      },
      "execution_count": 4,
      "outputs": [
        {
          "output_type": "stream",
          "name": "stdout",
          "text": [
            "HELLO\n"
          ]
        }
      ]
    },
    {
      "cell_type": "code",
      "source": [
        "# 5. Write a code to replace the word \"apple\" with \"orange\" in the string \"I like apple\".\n",
        "string = \"I like apple\"\n",
        "print (string.replace(\"apple\", \"orange\"))"
      ],
      "metadata": {
        "colab": {
          "base_uri": "https://localhost:8080/"
        },
        "id": "0fnkn9rdfPNv",
        "outputId": "a3363062-81f4-4bda-d05d-b4a2f51d256b"
      },
      "execution_count": 5,
      "outputs": [
        {
          "output_type": "stream",
          "name": "stdout",
          "text": [
            "I like orange\n"
          ]
        }
      ]
    },
    {
      "cell_type": "code",
      "source": [
        "# 6. Write a code to create a list with numbers 1 to 5 and print it.\n",
        "list = [1, 2, 3, 4, 5]\n",
        "print (list)"
      ],
      "metadata": {
        "colab": {
          "base_uri": "https://localhost:8080/"
        },
        "id": "G9RonVy8fXk0",
        "outputId": "10eca949-0744-4204-a9be-92ce78ed065a"
      },
      "execution_count": 6,
      "outputs": [
        {
          "output_type": "stream",
          "name": "stdout",
          "text": [
            "[1, 2, 3, 4, 5]\n"
          ]
        }
      ]
    },
    {
      "cell_type": "code",
      "source": [
        "# 7. Write a code to append the number 10 to the list [1, 2, 3, 4].\n",
        "list = [1, 2, 3, 4]\n",
        "list.append(10)\n",
        "print (list)\n"
      ],
      "metadata": {
        "colab": {
          "base_uri": "https://localhost:8080/"
        },
        "id": "m0qOX27Kfgfu",
        "outputId": "ff6a0b67-dba0-492b-c607-f29398c10101"
      },
      "execution_count": 7,
      "outputs": [
        {
          "output_type": "stream",
          "name": "stdout",
          "text": [
            "[1, 2, 3, 4, 10]\n"
          ]
        }
      ]
    },
    {
      "cell_type": "code",
      "source": [
        "# 8. Write a code to remove the number 3 from the list [1, 2, 3, 4, 5].\n",
        "list = [1, 2, 3, 4, 5]\n",
        "list.remove(3)\n",
        "print (list)"
      ],
      "metadata": {
        "colab": {
          "base_uri": "https://localhost:8080/"
        },
        "id": "H-34GKQpfu96",
        "outputId": "44e8c693-2cb7-4176-95c7-13acffc81c47"
      },
      "execution_count": 8,
      "outputs": [
        {
          "output_type": "stream",
          "name": "stdout",
          "text": [
            "[1, 2, 4, 5]\n"
          ]
        }
      ]
    },
    {
      "cell_type": "code",
      "source": [
        "# 9. Write a code to access the second element in the list ['a', 'b', 'c', 'd'].\n",
        "list = ['a', 'b', 'c', 'd']\n",
        "print (list[1])\n"
      ],
      "metadata": {
        "colab": {
          "base_uri": "https://localhost:8080/"
        },
        "id": "KsJbvtj6gB0a",
        "outputId": "2cbe9f00-96cb-4323-96f4-5489618f5ef4"
      },
      "execution_count": 9,
      "outputs": [
        {
          "output_type": "stream",
          "name": "stdout",
          "text": [
            "b\n"
          ]
        }
      ]
    },
    {
      "cell_type": "code",
      "source": [
        "# 10. Write a code to reverse the list [10, 20, 30, 40, 50].\n",
        "a = [10, 20, 30, 40, 50]\n",
        "a.reverse()\n",
        "print(a)"
      ],
      "metadata": {
        "colab": {
          "base_uri": "https://localhost:8080/"
        },
        "id": "YDfkpZcBiODN",
        "outputId": "fdadb85f-37d7-4a00-c6ab-0219598c57cc"
      },
      "execution_count": 10,
      "outputs": [
        {
          "output_type": "stream",
          "name": "stdout",
          "text": [
            "[50, 40, 30, 20, 10]\n"
          ]
        }
      ]
    },
    {
      "cell_type": "code",
      "source": [
        "# 11. Write a code to create a tuple with the elements 100, 200, 300 and print it.\n",
        "tuple = (100, 200, 300)\n",
        "print (tuple)"
      ],
      "metadata": {
        "colab": {
          "base_uri": "https://localhost:8080/"
        },
        "id": "3gLz2WKviv22",
        "outputId": "15b8b3d9-13ef-46d8-8011-36af9e54ddf7"
      },
      "execution_count": 11,
      "outputs": [
        {
          "output_type": "stream",
          "name": "stdout",
          "text": [
            "(100, 200, 300)\n"
          ]
        }
      ]
    },
    {
      "cell_type": "code",
      "source": [
        "# 12. Write a code to access the second-to-last element of the tuple ('red', 'green', 'blue', 'yellow').\n",
        "tuple = ('red', 'green', 'blue', 'yellow')\n",
        "print (tuple[-2])"
      ],
      "metadata": {
        "colab": {
          "base_uri": "https://localhost:8080/"
        },
        "id": "aAiOk3gAj1Hn",
        "outputId": "1500470f-fe8e-40eb-f1d8-cdfe194aa99b"
      },
      "execution_count": 12,
      "outputs": [
        {
          "output_type": "stream",
          "name": "stdout",
          "text": [
            "blue\n"
          ]
        }
      ]
    },
    {
      "cell_type": "code",
      "source": [
        "# 13. Write a code to find the minimum number in the tuple (10, 20, 5, 15).\n",
        "tuple = (10, 20, 5, 15)\n",
        "print (min(tuple))"
      ],
      "metadata": {
        "colab": {
          "base_uri": "https://localhost:8080/"
        },
        "id": "TH1uOg2wj_bo",
        "outputId": "7a31551e-b723-4dee-a216-6f0847031cea"
      },
      "execution_count": 13,
      "outputs": [
        {
          "output_type": "stream",
          "name": "stdout",
          "text": [
            "5\n"
          ]
        }
      ]
    },
    {
      "cell_type": "code",
      "source": [
        "# 14. Write a code to find the index of the element \"cat\" in the tuple ('dog', 'cat', 'rabbit').\n",
        "tuple = ('dog', 'cat', 'rabbit')\n",
        "print (tuple.index('cat'))"
      ],
      "metadata": {
        "colab": {
          "base_uri": "https://localhost:8080/"
        },
        "id": "7uD1BZ8EkLqr",
        "outputId": "c495ac9a-c5d9-4ffe-89ac-4a6a4d8aed2a"
      },
      "execution_count": 14,
      "outputs": [
        {
          "output_type": "stream",
          "name": "stdout",
          "text": [
            "1\n"
          ]
        }
      ]
    },
    {
      "cell_type": "code",
      "source": [
        "# 15. Write a code to create a tuple containing three different fruits and check if \"kiwi\" is in it.\n",
        "thistuple = (\"apple\", \"banana\", \"kiwi\")\n",
        "if \"kiwi\" in thistuple:\n",
        "  print(\"Yes, 'kiwi' is in the fruits tuple\")"
      ],
      "metadata": {
        "colab": {
          "base_uri": "https://localhost:8080/"
        },
        "id": "L2zMH4jgkcue",
        "outputId": "96acd7f7-1ac3-4c52-8577-1c908de547bc"
      },
      "execution_count": 15,
      "outputs": [
        {
          "output_type": "stream",
          "name": "stdout",
          "text": [
            "Yes, 'kiwi' is in the fruits tuple\n"
          ]
        }
      ]
    },
    {
      "cell_type": "code",
      "source": [
        "# 16. Write a code to create a set with the elements 'a', 'b', 'c' and print it.\n",
        "set = {'a', 'b', 'c'}\n",
        "print ('set:', set)\n"
      ],
      "metadata": {
        "colab": {
          "base_uri": "https://localhost:8080/"
        },
        "id": "N9pexg7Ol6Wh",
        "outputId": "29f6d199-b382-4483-bdb1-55063df2323f"
      },
      "execution_count": 20,
      "outputs": [
        {
          "output_type": "stream",
          "name": "stdout",
          "text": [
            "set: {'b', 'c', 'a'}\n"
          ]
        }
      ]
    },
    {
      "cell_type": "code",
      "source": [
        "# 17. Write a code to clear all elements from the set {1, 2, 3, 4, 5}.\n",
        "set = {1, 2, 3, 4, 5}\n",
        "set.clear()\n",
        "print (set)\n"
      ],
      "metadata": {
        "colab": {
          "base_uri": "https://localhost:8080/"
        },
        "id": "mGFH7Uqamj7Q",
        "outputId": "36c817f3-7fb8-4fe1-8a33-39134406f9ef"
      },
      "execution_count": 23,
      "outputs": [
        {
          "output_type": "stream",
          "name": "stdout",
          "text": [
            "set()\n"
          ]
        }
      ]
    },
    {
      "cell_type": "code",
      "source": [
        "# 18. Write a code to remove the element 4 from the set {1, 2, 3, 4}.\n",
        "set = {1, 2, 3, 4}\n",
        "set.remove(4)\n",
        "print (set)"
      ],
      "metadata": {
        "colab": {
          "base_uri": "https://localhost:8080/"
        },
        "id": "EyebvbdJm9MO",
        "outputId": "c5b20233-7b1c-4d2d-a54d-42f48f5cbcf3"
      },
      "execution_count": 24,
      "outputs": [
        {
          "output_type": "stream",
          "name": "stdout",
          "text": [
            "{1, 2, 3}\n"
          ]
        }
      ]
    },
    {
      "cell_type": "code",
      "source": [
        "# 19. Write a code to find the union of two sets {1, 2, 3} and {3, 4, 5}.\n",
        "set1 = {1, 2, 3}\n",
        "set2 = {3, 4, 5}\n",
        "print (set1.union(set2))\n"
      ],
      "metadata": {
        "colab": {
          "base_uri": "https://localhost:8080/"
        },
        "id": "riH4ItlEnDOd",
        "outputId": "1a3ecac6-b055-47ed-91c3-1e92166ab38c"
      },
      "execution_count": 25,
      "outputs": [
        {
          "output_type": "stream",
          "name": "stdout",
          "text": [
            "{1, 2, 3, 4, 5}\n"
          ]
        }
      ]
    },
    {
      "cell_type": "code",
      "source": [
        "# 20. Write a code to find the intersection of two sets {1, 2, 3} and {2, 3, 4}.\n",
        "set1 = {1, 2, 3}\n",
        "set2 = {2, 3, 4}\n",
        "print (set1.intersection(set2))\n"
      ],
      "metadata": {
        "colab": {
          "base_uri": "https://localhost:8080/"
        },
        "id": "D2zdnTDBnWd7",
        "outputId": "a89b2bda-a093-4533-fe67-b77cdda6ec94"
      },
      "execution_count": 26,
      "outputs": [
        {
          "output_type": "stream",
          "name": "stdout",
          "text": [
            "{2, 3}\n"
          ]
        }
      ]
    },
    {
      "cell_type": "code",
      "source": [
        "# 21. Write a code to create a dictionary with the keys \"name\", \"age\", and \"city\", and print it.\n",
        "dict = {\n",
        "  \"name\": \"Mohit\",\n",
        "  \"age\": 34,\n",
        "  \"city\": \"Rampur\"\n",
        "}\n",
        "print (dict)"
      ],
      "metadata": {
        "colab": {
          "base_uri": "https://localhost:8080/"
        },
        "id": "f-q8_SSt_fVv",
        "outputId": "33a30401-fbf6-4507-bb29-0b92ce42bd06"
      },
      "execution_count": 1,
      "outputs": [
        {
          "output_type": "stream",
          "name": "stdout",
          "text": [
            "{'name': 'Mohit', 'age': 34, 'city': 'Rampur'}\n"
          ]
        }
      ]
    },
    {
      "cell_type": "code",
      "source": [
        "# 22. Write a code to add a new key-value pair \"country\": \"USA\" to the dictionary {'name': 'John', 'age': 25}.\n",
        "dict = {'name': 'John', 'age': 25}\n",
        "dict['country'] = 'USA'\n",
        "print (dict)"
      ],
      "metadata": {
        "colab": {
          "base_uri": "https://localhost:8080/"
        },
        "id": "741x1HbPA4jP",
        "outputId": "c931828b-d3c0-4850-db39-53730daceee8"
      },
      "execution_count": 2,
      "outputs": [
        {
          "output_type": "stream",
          "name": "stdout",
          "text": [
            "{'name': 'John', 'age': 25, 'country': 'USA'}\n"
          ]
        }
      ]
    },
    {
      "cell_type": "code",
      "source": [
        "# 23. . Write a code to access the value associated with the key \"name\" in the dictionary {'name': 'Alice', 'age': 30}.\n",
        "dict = {'name': 'Alice', 'age': 30}\n",
        "print (dict['name'])"
      ],
      "metadata": {
        "colab": {
          "base_uri": "https://localhost:8080/"
        },
        "id": "tU8guH-6BDsP",
        "outputId": "e90caba3-ec4d-4fb7-e215-44bac2b93627"
      },
      "execution_count": 3,
      "outputs": [
        {
          "output_type": "stream",
          "name": "stdout",
          "text": [
            "Alice\n"
          ]
        }
      ]
    },
    {
      "cell_type": "code",
      "source": [
        "# 24. Write a code to remove the key \"age\" from the dictionary {'name': 'Bob', 'age': 22, 'city': 'New York'}.\n",
        "dict = {'name': 'Bob', 'age': 22, 'city': 'New York'}\n",
        "del dict['age']\n",
        "print (dict)"
      ],
      "metadata": {
        "colab": {
          "base_uri": "https://localhost:8080/"
        },
        "id": "75fplSDrBM5o",
        "outputId": "293628f5-74df-446e-e1e4-b9d96026e8a6"
      },
      "execution_count": 4,
      "outputs": [
        {
          "output_type": "stream",
          "name": "stdout",
          "text": [
            "{'name': 'Bob', 'city': 'New York'}\n"
          ]
        }
      ]
    },
    {
      "cell_type": "code",
      "source": [
        "# 25. Write a code to check if the key \"city\" exists in the dictionary {'name': 'Alice', 'city': 'Paris'}.\n",
        "dict = {'name': 'Alice', 'city': 'Paris'}\n",
        "if 'city' in dict:\n",
        "  print(\"Yes, 'city' is one of the keys in the this dict dictionary\")"
      ],
      "metadata": {
        "colab": {
          "base_uri": "https://localhost:8080/"
        },
        "id": "UGRtBEbuBThU",
        "outputId": "0a56050c-bea5-45f9-fb3d-78aedcdd8358"
      },
      "execution_count": 6,
      "outputs": [
        {
          "output_type": "stream",
          "name": "stdout",
          "text": [
            "Yes, 'city' is one of the keys in the this dict dictionary\n"
          ]
        }
      ]
    },
    {
      "cell_type": "code",
      "source": [
        "# 26. Write a code to create a list, a tuple, and a dictionary, and print them all.\n",
        "list = [1, 2, 3, 4, 5]\n",
        "print (list)\n",
        "tuple = (1, 2, 3, 4, 5)\n",
        "print (tuple)\n",
        "dict = {\n",
        "  \"name\": \"Mohit\",\n",
        "  \"age\": 34,\n",
        "  \"city\": \"Rampur\"\n",
        "}\n",
        "print (dict)\n"
      ],
      "metadata": {
        "colab": {
          "base_uri": "https://localhost:8080/"
        },
        "id": "83tEoxD7Bo4Y",
        "outputId": "1b70e3a3-2f3c-42ab-f288-323d12505358"
      },
      "execution_count": 8,
      "outputs": [
        {
          "output_type": "stream",
          "name": "stdout",
          "text": [
            "[1, 2, 3, 4, 5]\n",
            "(1, 2, 3, 4, 5)\n",
            "{'name': 'Mohit', 'age': 34, 'city': 'Rampur'}\n"
          ]
        }
      ]
    },
    {
      "cell_type": "code",
      "source": [
        "# 27. Write a code to create a list of 5 random numbers between 1 and 100, sort it in ascending order, and print the result.(replaced)\n",
        "import random\n",
        "list = []\n",
        "for i in range(5):\n",
        "    list.append(random.randint(1, 100))\n",
        "list.sort()\n",
        "print (list)"
      ],
      "metadata": {
        "colab": {
          "base_uri": "https://localhost:8080/"
        },
        "id": "6_u9BC7BB70l",
        "outputId": "35d7809d-83e8-45bf-aa01-9b4eda2a6400"
      },
      "execution_count": 9,
      "outputs": [
        {
          "output_type": "stream",
          "name": "stdout",
          "text": [
            "[12, 31, 37, 43, 45]\n"
          ]
        }
      ]
    },
    {
      "cell_type": "code",
      "source": [
        "# 28. Write a code to create a list with strings and print the element at the third index.\n",
        "list = ['a', 'b', 'c', 'd']\n",
        "print (list[2])"
      ],
      "metadata": {
        "colab": {
          "base_uri": "https://localhost:8080/"
        },
        "id": "84WCE4ORCOas",
        "outputId": "948e4fb8-ab28-46ac-fa97-5508ad6391e9"
      },
      "execution_count": 10,
      "outputs": [
        {
          "output_type": "stream",
          "name": "stdout",
          "text": [
            "c\n"
          ]
        }
      ]
    },
    {
      "cell_type": "code",
      "source": [
        "# 29. Write a code to combine two dictionaries into one and print the result.\n",
        "dict1 = {'a': 1, 'b': 2}\n",
        "dict2 = {'c': 3, 'd': 4}\n",
        "dict1.update(dict2)\n",
        "print (dict1)"
      ],
      "metadata": {
        "colab": {
          "base_uri": "https://localhost:8080/"
        },
        "id": "1q7rioT8CZin",
        "outputId": "0e7992c5-ec20-4e56-f69e-3e11b3f78dd6"
      },
      "execution_count": 11,
      "outputs": [
        {
          "output_type": "stream",
          "name": "stdout",
          "text": [
            "{'a': 1, 'b': 2, 'c': 3, 'd': 4}\n"
          ]
        }
      ]
    },
    {
      "cell_type": "code",
      "source": [
        "# 30. Write a code to convert a list of strings into a set.\n",
        "list = ['a', 'b', 'c', 'd']\n",
        "set = set(list)\n",
        "print (set)"
      ],
      "metadata": {
        "colab": {
          "base_uri": "https://localhost:8080/"
        },
        "id": "I-U0D10fCiT-",
        "outputId": "bef2095b-6bc6-45c0-bff4-e9f2f9323d7f"
      },
      "execution_count": 12,
      "outputs": [
        {
          "output_type": "stream",
          "name": "stdout",
          "text": [
            "{'c', 'd', 'b', 'a'}\n"
          ]
        }
      ]
    }
  ]
}